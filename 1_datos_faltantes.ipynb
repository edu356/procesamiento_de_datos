{
 "cells": [
  {
   "cell_type": "markdown",
   "id": "fb44f8fb-17b1-4ad6-8829-d66c86b98c4b",
   "metadata": {},
   "source": [
    "# Datos Faltantes"
   ]
  },
  {
   "cell_type": "code",
   "execution_count": 4,
   "id": "01148085-3966-4035-a659-582d0e20bb3c",
   "metadata": {},
   "outputs": [],
   "source": [
    "# Importar librerías necesarias\n",
    "import pandas as pd\n",
    "import numpy as np\n",
    "from sklearn.datasets import load_diabetes\n",
    "from sklearn.impute import SimpleImputer, KNNImputer\n",
    "import matplotlib.pyplot as plt\n",
    "import seaborn as sns"
   ]
  },
  {
   "cell_type": "code",
   "execution_count": 5,
   "id": "de071a79-ce2b-4444-85e8-a5f62a391a23",
   "metadata": {},
   "outputs": [],
   "source": [
    "# Cargar el conjunto de datos\n",
    "diabetes = load_diabetes(as_frame=True)\n",
    "data = diabetes.data\n",
    "data['target'] = diabetes.target"
   ]
  },
  {
   "cell_type": "code",
   "execution_count": 6,
   "id": "869fa768-bc98-4d81-ae5b-2ab6b9b3c80b",
   "metadata": {},
   "outputs": [
    {
     "data": {
      "text/html": [
       "<div>\n",
       "<style scoped>\n",
       "    .dataframe tbody tr th:only-of-type {\n",
       "        vertical-align: middle;\n",
       "    }\n",
       "\n",
       "    .dataframe tbody tr th {\n",
       "        vertical-align: top;\n",
       "    }\n",
       "\n",
       "    .dataframe thead th {\n",
       "        text-align: right;\n",
       "    }\n",
       "</style>\n",
       "<table border=\"1\" class=\"dataframe\">\n",
       "  <thead>\n",
       "    <tr style=\"text-align: right;\">\n",
       "      <th></th>\n",
       "      <th>age</th>\n",
       "      <th>sex</th>\n",
       "      <th>bmi</th>\n",
       "      <th>bp</th>\n",
       "      <th>s1</th>\n",
       "      <th>s2</th>\n",
       "      <th>s3</th>\n",
       "      <th>s4</th>\n",
       "      <th>s5</th>\n",
       "      <th>s6</th>\n",
       "      <th>target</th>\n",
       "    </tr>\n",
       "  </thead>\n",
       "  <tbody>\n",
       "    <tr>\n",
       "      <th>2</th>\n",
       "      <td>0.085299</td>\n",
       "      <td>0.050680</td>\n",
       "      <td>0.044451</td>\n",
       "      <td>-0.005670</td>\n",
       "      <td>-0.045599</td>\n",
       "      <td>-0.034194</td>\n",
       "      <td>-0.032356</td>\n",
       "      <td>-0.002592</td>\n",
       "      <td>0.002861</td>\n",
       "      <td>-0.025930</td>\n",
       "      <td>141.0</td>\n",
       "    </tr>\n",
       "    <tr>\n",
       "      <th>319</th>\n",
       "      <td>0.019913</td>\n",
       "      <td>-0.044642</td>\n",
       "      <td>0.004572</td>\n",
       "      <td>0.045972</td>\n",
       "      <td>-0.018080</td>\n",
       "      <td>-0.054549</td>\n",
       "      <td>0.063367</td>\n",
       "      <td>-0.039493</td>\n",
       "      <td>0.028658</td>\n",
       "      <td>0.061054</td>\n",
       "      <td>191.0</td>\n",
       "    </tr>\n",
       "    <tr>\n",
       "      <th>266</th>\n",
       "      <td>-0.052738</td>\n",
       "      <td>0.050680</td>\n",
       "      <td>-0.062252</td>\n",
       "      <td>0.011544</td>\n",
       "      <td>-0.008449</td>\n",
       "      <td>-0.036700</td>\n",
       "      <td>0.122273</td>\n",
       "      <td>-0.076395</td>\n",
       "      <td>-0.086827</td>\n",
       "      <td>0.003064</td>\n",
       "      <td>45.0</td>\n",
       "    </tr>\n",
       "    <tr>\n",
       "      <th>203</th>\n",
       "      <td>-0.001882</td>\n",
       "      <td>0.050680</td>\n",
       "      <td>0.030440</td>\n",
       "      <td>0.052858</td>\n",
       "      <td>0.039710</td>\n",
       "      <td>0.056619</td>\n",
       "      <td>-0.039719</td>\n",
       "      <td>0.071210</td>\n",
       "      <td>0.025395</td>\n",
       "      <td>0.027917</td>\n",
       "      <td>222.0</td>\n",
       "    </tr>\n",
       "    <tr>\n",
       "      <th>5</th>\n",
       "      <td>-0.092695</td>\n",
       "      <td>-0.044642</td>\n",
       "      <td>-0.040696</td>\n",
       "      <td>-0.019442</td>\n",
       "      <td>-0.068991</td>\n",
       "      <td>-0.079288</td>\n",
       "      <td>0.041277</td>\n",
       "      <td>-0.076395</td>\n",
       "      <td>-0.041176</td>\n",
       "      <td>-0.096346</td>\n",
       "      <td>97.0</td>\n",
       "    </tr>\n",
       "    <tr>\n",
       "      <th>207</th>\n",
       "      <td>0.009016</td>\n",
       "      <td>-0.044642</td>\n",
       "      <td>0.045529</td>\n",
       "      <td>0.028758</td>\n",
       "      <td>0.012191</td>\n",
       "      <td>-0.013840</td>\n",
       "      <td>0.026550</td>\n",
       "      <td>-0.039493</td>\n",
       "      <td>0.046133</td>\n",
       "      <td>0.036201</td>\n",
       "      <td>202.0</td>\n",
       "    </tr>\n",
       "    <tr>\n",
       "      <th>253</th>\n",
       "      <td>0.081666</td>\n",
       "      <td>-0.044642</td>\n",
       "      <td>0.033673</td>\n",
       "      <td>0.008101</td>\n",
       "      <td>0.052093</td>\n",
       "      <td>0.056619</td>\n",
       "      <td>-0.017629</td>\n",
       "      <td>0.034309</td>\n",
       "      <td>0.034866</td>\n",
       "      <td>0.069338</td>\n",
       "      <td>150.0</td>\n",
       "    </tr>\n",
       "    <tr>\n",
       "      <th>304</th>\n",
       "      <td>0.041708</td>\n",
       "      <td>0.050680</td>\n",
       "      <td>-0.038540</td>\n",
       "      <td>0.052858</td>\n",
       "      <td>0.076860</td>\n",
       "      <td>0.116430</td>\n",
       "      <td>-0.039719</td>\n",
       "      <td>0.071210</td>\n",
       "      <td>-0.022517</td>\n",
       "      <td>-0.013504</td>\n",
       "      <td>253.0</td>\n",
       "    </tr>\n",
       "    <tr>\n",
       "      <th>147</th>\n",
       "      <td>-0.056370</td>\n",
       "      <td>-0.044642</td>\n",
       "      <td>0.092953</td>\n",
       "      <td>-0.019442</td>\n",
       "      <td>0.014942</td>\n",
       "      <td>0.023425</td>\n",
       "      <td>-0.028674</td>\n",
       "      <td>0.025453</td>\n",
       "      <td>0.026061</td>\n",
       "      <td>0.040343</td>\n",
       "      <td>128.0</td>\n",
       "    </tr>\n",
       "    <tr>\n",
       "      <th>14</th>\n",
       "      <td>0.045341</td>\n",
       "      <td>-0.044642</td>\n",
       "      <td>-0.025607</td>\n",
       "      <td>-0.012556</td>\n",
       "      <td>0.017694</td>\n",
       "      <td>-0.000061</td>\n",
       "      <td>0.081775</td>\n",
       "      <td>-0.039493</td>\n",
       "      <td>-0.031988</td>\n",
       "      <td>-0.075636</td>\n",
       "      <td>118.0</td>\n",
       "    </tr>\n",
       "  </tbody>\n",
       "</table>\n",
       "</div>"
      ],
      "text/plain": [
       "          age       sex       bmi        bp        s1        s2        s3  \\\n",
       "2    0.085299  0.050680  0.044451 -0.005670 -0.045599 -0.034194 -0.032356   \n",
       "319  0.019913 -0.044642  0.004572  0.045972 -0.018080 -0.054549  0.063367   \n",
       "266 -0.052738  0.050680 -0.062252  0.011544 -0.008449 -0.036700  0.122273   \n",
       "203 -0.001882  0.050680  0.030440  0.052858  0.039710  0.056619 -0.039719   \n",
       "5   -0.092695 -0.044642 -0.040696 -0.019442 -0.068991 -0.079288  0.041277   \n",
       "207  0.009016 -0.044642  0.045529  0.028758  0.012191 -0.013840  0.026550   \n",
       "253  0.081666 -0.044642  0.033673  0.008101  0.052093  0.056619 -0.017629   \n",
       "304  0.041708  0.050680 -0.038540  0.052858  0.076860  0.116430 -0.039719   \n",
       "147 -0.056370 -0.044642  0.092953 -0.019442  0.014942  0.023425 -0.028674   \n",
       "14   0.045341 -0.044642 -0.025607 -0.012556  0.017694 -0.000061  0.081775   \n",
       "\n",
       "           s4        s5        s6  target  \n",
       "2   -0.002592  0.002861 -0.025930   141.0  \n",
       "319 -0.039493  0.028658  0.061054   191.0  \n",
       "266 -0.076395 -0.086827  0.003064    45.0  \n",
       "203  0.071210  0.025395  0.027917   222.0  \n",
       "5   -0.076395 -0.041176 -0.096346    97.0  \n",
       "207 -0.039493  0.046133  0.036201   202.0  \n",
       "253  0.034309  0.034866  0.069338   150.0  \n",
       "304  0.071210 -0.022517 -0.013504   253.0  \n",
       "147  0.025453  0.026061  0.040343   128.0  \n",
       "14  -0.039493 -0.031988 -0.075636   118.0  "
      ]
     },
     "execution_count": 6,
     "metadata": {},
     "output_type": "execute_result"
    }
   ],
   "source": [
    "data.sample(10)"
   ]
  },
  {
   "cell_type": "code",
   "execution_count": 7,
   "id": "42ce3a53-c8d5-4f1b-b94b-22f207199269",
   "metadata": {},
   "outputs": [],
   "source": [
    "# Simular valores faltantes\n",
    "np.random.seed(42)\n",
    "data.loc[data.sample(frac=0.1).index, 'bmi'] = np.nan\n",
    "data.loc[data.sample(frac=0.1).index, 'bp'] = np.nan"
   ]
  },
  {
   "cell_type": "markdown",
   "id": "e5636cb1-845e-4fa5-8f34-2449fe01faa9",
   "metadata": {},
   "source": [
    "# Ejercicios\n",
    "Contesta las siguientes preguntas. Para cada pregunta, deberás escribir código que demostrará cómo llegaste al resultado:"
   ]
  },
  {
   "cell_type": "markdown",
   "id": "0a01b889-f67d-44ba-a104-d4bf1bda5288",
   "metadata": {},
   "source": [
    "### 1. ¿Cuántos valores faltantes hay en cada columna?**"
   ]
  },
  {
   "cell_type": "code",
   "execution_count": 14,
   "id": "826948b0-74e5-4edc-9380-ddddd4a0cbad",
   "metadata": {},
   "outputs": [
    {
     "name": "stdout",
     "output_type": "stream",
     "text": [
      "age        0\n",
      "sex        0\n",
      "bmi       44\n",
      "bp        44\n",
      "s1         0\n",
      "s2         0\n",
      "s3         0\n",
      "s4         0\n",
      "s5         0\n",
      "s6         0\n",
      "target     0\n",
      "dtype: int64\n"
     ]
    }
   ],
   "source": [
    "print(data.isnull().sum())"
   ]
  },
  {
   "cell_type": "markdown",
   "id": "08aedf31-efe1-4112-9f98-1bdf2f42ec04",
   "metadata": {},
   "source": [
    "### 2. Utiliza imputación simple (media) para llenar los valores faltantes de la columna 'bmi'."
   ]
  },
  {
   "cell_type": "code",
   "execution_count": 17,
   "id": "16b6eeaa-6901-4216-a6d2-f13f228687d0",
   "metadata": {},
   "outputs": [
    {
     "name": "stdout",
     "output_type": "stream",
     "text": [
      "age        0\n",
      "sex        0\n",
      "bmi        0\n",
      "bp        44\n",
      "s1         0\n",
      "s2         0\n",
      "s3         0\n",
      "s4         0\n",
      "s5         0\n",
      "s6         0\n",
      "target     0\n",
      "dtype: int64\n"
     ]
    }
   ],
   "source": [
    "data_imputed = data.copy()\n",
    "\n",
    "imputer = SimpleImputer(strategy = 'mean')\n",
    "\n",
    "data_imputed['bmi'] = imputer.fit_transform(data_imputed[['bmi']])\n",
    "print(data_imputed.isnull().sum())"
   ]
  },
  {
   "cell_type": "markdown",
   "id": "2b99cbfe-4790-4db4-a817-61228a201320",
   "metadata": {},
   "source": [
    "### 3. Utiliza KNNImputer para imputar valores en las columnas 'bmi' y 'bp'. Compara los resultados con los de la imputación simple."
   ]
  },
  {
   "cell_type": "code",
   "execution_count": 19,
   "id": "23b0d053-f30a-46a5-b640-c80153acd80a",
   "metadata": {},
   "outputs": [
    {
     "name": "stdout",
     "output_type": "stream",
     "text": [
      "age       0\n",
      "sex       0\n",
      "bmi       0\n",
      "bp        0\n",
      "s1        0\n",
      "s2        0\n",
      "s3        0\n",
      "s4        0\n",
      "s5        0\n",
      "s6        0\n",
      "target    0\n",
      "dtype: int64\n"
     ]
    }
   ],
   "source": [
    "data_knn = data.copy()\n",
    "\n",
    "knn_imputer = KNNImputer(n_neighbors = 5)\n",
    "\n",
    "data_knn[['bmi', 'bp']] = knn_imputer.fit_transform(data_knn[['bmi', 'bp']])\n",
    "print(data_knn.isnull().sum())"
   ]
  },
  {
   "cell_type": "code",
   "execution_count": 21,
   "id": "019a5fc2",
   "metadata": {},
   "outputs": [
    {
     "name": "stdout",
     "output_type": "stream",
     "text": [
      "                age           sex         bmi          bp            s1  \\\n",
      "count  4.420000e+02  4.420000e+02  442.000000  398.000000  4.420000e+02   \n",
      "mean  -2.511817e-19  1.230790e-17   -0.000205    0.000465 -1.381499e-17   \n",
      "std    4.761905e-02  4.761905e-02    0.044583    0.048043  4.761905e-02   \n",
      "min   -1.072256e-01 -4.464164e-02   -0.089197   -0.112399 -1.267807e-01   \n",
      "25%   -3.729927e-02 -4.464164e-02   -0.030996   -0.033213 -3.424784e-02   \n",
      "50%    5.383060e-03 -4.464164e-02   -0.000817   -0.005670 -4.320866e-03   \n",
      "75%    3.807591e-02  5.068012e-02    0.024781    0.035644  2.835801e-02   \n",
      "max    1.107267e-01  5.068012e-02    0.160855    0.132044  1.539137e-01   \n",
      "\n",
      "                 s2            s3            s4            s5            s6  \\\n",
      "count  4.420000e+02  4.420000e+02  4.420000e+02  4.420000e+02  4.420000e+02   \n",
      "mean   3.918434e-17 -5.777179e-18 -9.042540e-18  9.293722e-17  1.130318e-17   \n",
      "std    4.761905e-02  4.761905e-02  4.761905e-02  4.761905e-02  4.761905e-02   \n",
      "min   -1.156131e-01 -1.023071e-01 -7.639450e-02 -1.260971e-01 -1.377672e-01   \n",
      "25%   -3.035840e-02 -3.511716e-02 -3.949338e-02 -3.324559e-02 -3.317903e-02   \n",
      "50%   -3.819065e-03 -6.584468e-03 -2.592262e-03 -1.947171e-03 -1.077698e-03   \n",
      "75%    2.984439e-02  2.931150e-02  3.430886e-02  3.243232e-02  2.791705e-02   \n",
      "max    1.987880e-01  1.811791e-01  1.852344e-01  1.335973e-01  1.356118e-01   \n",
      "\n",
      "           target  \n",
      "count  442.000000  \n",
      "mean   152.133484  \n",
      "std     77.093005  \n",
      "min     25.000000  \n",
      "25%     87.000000  \n",
      "50%    140.500000  \n",
      "75%    211.500000  \n",
      "max    346.000000  \n"
     ]
    }
   ],
   "source": [
    "print(data_imputed.describe())\n"
   ]
  },
  {
   "cell_type": "code",
   "execution_count": 22,
   "id": "b4c3a69d",
   "metadata": {},
   "outputs": [
    {
     "name": "stdout",
     "output_type": "stream",
     "text": [
      "                age           sex         bmi          bp            s1  \\\n",
      "count  4.420000e+02  4.420000e+02  442.000000  442.000000  4.420000e+02   \n",
      "mean  -2.511817e-19  1.230790e-17    0.000213    0.000296 -1.381499e-17   \n",
      "std    4.761905e-02  4.761905e-02    0.045416    0.046323  4.761905e-02   \n",
      "min   -1.072256e-01 -4.464164e-02   -0.089197   -0.112399 -1.267807e-01   \n",
      "25%   -3.729927e-02 -4.464164e-02   -0.032073   -0.033213 -3.424784e-02   \n",
      "50%    5.383060e-03 -4.464164e-02   -0.005128   -0.005670 -4.320866e-03   \n",
      "75%    3.807591e-02  5.068012e-02    0.030440    0.033053  2.835801e-02   \n",
      "max    1.107267e-01  5.068012e-02    0.160855    0.132044  1.539137e-01   \n",
      "\n",
      "                 s2            s3            s4            s5            s6  \\\n",
      "count  4.420000e+02  4.420000e+02  4.420000e+02  4.420000e+02  4.420000e+02   \n",
      "mean   3.918434e-17 -5.777179e-18 -9.042540e-18  9.293722e-17  1.130318e-17   \n",
      "std    4.761905e-02  4.761905e-02  4.761905e-02  4.761905e-02  4.761905e-02   \n",
      "min   -1.156131e-01 -1.023071e-01 -7.639450e-02 -1.260971e-01 -1.377672e-01   \n",
      "25%   -3.035840e-02 -3.511716e-02 -3.949338e-02 -3.324559e-02 -3.317903e-02   \n",
      "50%   -3.819065e-03 -6.584468e-03 -2.592262e-03 -1.947171e-03 -1.077698e-03   \n",
      "75%    2.984439e-02  2.931150e-02  3.430886e-02  3.243232e-02  2.791705e-02   \n",
      "max    1.987880e-01  1.811791e-01  1.852344e-01  1.335973e-01  1.356118e-01   \n",
      "\n",
      "           target  \n",
      "count  442.000000  \n",
      "mean   152.133484  \n",
      "std     77.093005  \n",
      "min     25.000000  \n",
      "25%     87.000000  \n",
      "50%    140.500000  \n",
      "75%    211.500000  \n",
      "max    346.000000  \n"
     ]
    }
   ],
   "source": [
    "print(data_knn.describe())"
   ]
  },
  {
   "cell_type": "markdown",
   "id": "9b3b6f25-1965-44cf-ab21-4fc94fae9597",
   "metadata": {},
   "source": [
    "### 4. Genera un histograma comparando los datos antes y después de la imputación en la columna 'bmi'."
   ]
  },
  {
   "cell_type": "code",
   "execution_count": 23,
   "id": "7a7485b3-eb4b-4487-aa04-df235c17bda7",
   "metadata": {},
   "outputs": [
    {
     "data": {
      "image/png": "[encoded data removed]",
      "text/plain": [
       "<Figure size 1200x600 with 3 Axes>"
      ]
     },
     "metadata": {},
     "output_type": "display_data"
    }
   ],
   "source": [
    "plt.figure(figsize=(12, 6))\n",
    "\n",
    "plt.subplot(1, 3, 1)\n",
    "plt.hist(data['bmi'], bins = 20, alpha = 0.5, label = 'Original')\n",
    "plt.title('Histograma de BMI - Original')\n",
    "plt.xlabel('BMI')\n",
    "plt.ylabel('Frecuencia')\n",
    "\n",
    "plt.subplot(1, 3, 2)\n",
    "plt.hist(data_knn['bmi'], bins = 20, alpha = 0.5, label = ' Knn Imputado')\n",
    "plt.title('Histograma de BMI - Imputacion')\n",
    "plt.xlabel('BMI')\n",
    "plt.ylabel('Frecuencia')\n",
    "\n",
    "plt.subplot(1, 3, 3)\n",
    "plt.hist(data['bmi'], bins = 20, alpha = 0.5, label = 'Original')\n",
    "plt.title('Histograma de BMI - Knn Imputado')\n",
    "plt.xlabel('BMI')\n",
    "plt.ylabel('Frecuencia')\n",
    "\n",
    "plt.tight_layout()\n",
    "plt.show()\n",
    "\n",
    "\n"
   ]
  }
 ],
 "metadata": {
  "kernelspec": {
   "display_name": "venv",
   "language": "python",
   "name": "python3"
  },
  "language_info": {
   "codemirror_mode": {
    "name": "ipython",
    "version": 3
   },
   "file_extension": ".py",
   "mimetype": "text/x-python",
   "name": "python",
   "nbconvert_exporter": "python",
   "pygments_lexer": "ipython3",
   "version": "3.12.8"
  }
 },
 "nbformat": 4,
 "nbformat_minor": 5
}
